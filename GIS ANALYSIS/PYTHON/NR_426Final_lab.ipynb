{
 "cells": [
  {
   "cell_type": "code",
   "execution_count": 1,
   "id": "c093047f-e9da-4816-af0a-79c50d8317cc",
   "metadata": {},
   "outputs": [
    {
     "data": {
      "text/plain": [
       "'\\nName: Josh Virene\\nDate: 9 March, 2023\\nClass: NR426: Programming for GIS\\nPurpose: The purpose of this lab is to accomplish landcover classification for a study area in Big Sky, Montana using\\nsatellite imagery- National Agricultural Imagery Program (NAIP), and the National Landcover Dataset (NLCD)\\n\\nProgram(s): Jupyter Notebook, Google Earth Engine, Python\\nData sources: \\n1. National Agricultural Imagery Program (NAIP), year: 2019\\n2. National Landcover Dataset (NLCD), year: 2016\\n3. Training data- polygons to train the random forest classifier \\n(These are generated in the script during the classification stage)\\n\\nAcknowledgement: The majority of this script is adapted from a script by Ritika et al., and can be found at:\\nhttps://github.com/RitikaPrasai/NAIP-aerial-imagery-file/blob/main/Final%20supervised%20classification%20of%20NAIP%20imagery-12%20December.ipynb\\n'"
      ]
     },
     "execution_count": 1,
     "metadata": {},
     "output_type": "execute_result"
    }
   ],
   "source": [
    "'''\n",
    "Name: Josh Virene\n",
    "Date: 9 March, 2023\n",
    "Class: NR426: Programming for GIS\n",
    "Purpose: The purpose of this lab is to accomplish landcover classification for a study area in Big Sky, Montana using\n",
    "satellite imagery- National Agricultural Imagery Program (NAIP), and the National Landcover Dataset (NLCD)\n",
    "\n",
    "Program(s): Jupyter Notebook, Google Earth Engine, Python\n",
    "Data sources: \n",
    "1. National Agricultural Imagery Program (NAIP), year: 2019\n",
    "2. National Landcover Dataset (NLCD), year: 2016\n",
    "3. Training data- polygons to train the random forest classifier \n",
    "(These are generated in the script during the classification stage)\n",
    "\n",
    "Acknowledgement: The majority of this script is adapted from a script by Ritika et al., and can be found at:\n",
    "https://github.com/RitikaPrasai/NAIP-aerial-imagery-file/blob/main/Final%20supervised%20classification%20of%20NAIP%20imagery-12%20December.ipynb\n",
    "'''"
   ]
  },
  {
   "cell_type": "code",
   "execution_count": 1,
   "id": "3939c4b0-5f56-4365-b0d4-7edcee16cfd9",
   "metadata": {},
   "outputs": [
    {
     "name": "stdout",
     "output_type": "stream",
     "text": [
      "Successfully imported the earth engine (ee) and geemap modules\n"
     ]
    }
   ],
   "source": [
    "# Setup: import modules\n",
    "try: \n",
    "    import ee\n",
    "    import geemap\n",
    "    print(\"Successfully imported the earth engine (ee) and geemap modules\")\n",
    "except: \n",
    "    print(\"Modules not successfully imported\")"
   ]
  },
  {
   "cell_type": "code",
   "execution_count": 2,
   "id": "efce7912-f338-46df-92c0-b573fe81dfa5",
   "metadata": {},
   "outputs": [
    {
     "name": "stdout",
     "output_type": "stream",
     "text": [
      "Initializing Earth Engine\n",
      "Successfully initialized\n"
     ]
    }
   ],
   "source": [
    "# Initialize google earth engine (ee), optional: visualize a blank map \n",
    "print(\"Initializing Earth Engine\")\n",
    "ee.Initialize\n",
    "print(\"Successfully initialized\")\n",
    "\n",
    "Map = geemap.Map()"
   ]
  },
  {
   "cell_type": "code",
   "execution_count": 3,
   "id": "0fa95e59-62cd-452c-9283-f5bbc9c79814",
   "metadata": {},
   "outputs": [
    {
     "name": "stdout",
     "output_type": "stream",
     "text": [
      "Successfully imported imagery\n"
     ]
    }
   ],
   "source": [
    "# Data acquisition: Get NLCD Data\n",
    "NLCD_Source = 'USGS/NLCD/NLCD2016' # Insert NLCD Imagery pathway\n",
    "NLCD2016 = ee.Image(NLCD_Source).select('landcover')\n",
    "try: \n",
    "    Map.addLayer(NLCD2016,{},'NLCD_2016',True)\n",
    "    print(\"Successfully imported imagery\")\n",
    "except:\n",
    "    print(f'Failed to import imagery- image source: {NLCD_Source} is not valid')"
   ]
  },
  {
   "cell_type": "code",
   "execution_count": 4,
   "id": "1a197338",
   "metadata": {},
   "outputs": [
    {
     "data": {
      "application/vnd.jupyter.widget-view+json": {
       "model_id": "19d42957e7a44414bf5e0245b680d28b",
       "version_major": 2,
       "version_minor": 0
      },
      "text/plain": [
       "Map(center=[20, 0], controls=(WidgetControl(options=['position', 'transparent_bg'], widget=HBox(children=(Togg…"
      ]
     },
     "metadata": {},
     "output_type": "display_data"
    }
   ],
   "source": [
    "Map"
   ]
  },
  {
   "cell_type": "code",
   "execution_count": 5,
   "id": "648b0ea0-df48-4f80-9974-0e6ca16c7634",
   "metadata": {},
   "outputs": [
    {
     "name": "stdout",
     "output_type": "stream",
     "text": [
      "Created the study region\n"
     ]
    }
   ],
   "source": [
    "# Select a region of interest over which to classify landcover: \n",
    "# Region: Rectangular area south of Big Sky, MT\n",
    "StudyRegion = ee.Geometry.Rectangle([-111.55543828087393,45.25849168709718,-110.86604619103018, 45.01145511561177])\n",
    "Map.addLayer(StudyRegion)\n",
    "print(\"Created the study region\")"
   ]
  },
  {
   "cell_type": "code",
   "execution_count": 6,
   "id": "430608cc-a773-438d-9711-b2a901729409",
   "metadata": {},
   "outputs": [
    {
     "name": "stdout",
     "output_type": "stream",
     "text": [
      "Clipped the NLCD imagery to the study region\n"
     ]
    }
   ],
   "source": [
    "# Clip the NLCD Imagery to the study area: ### IMAGE ONE IN LAB WRITE-UP #####\n",
    "NLCD2016_Clip = NLCD2016.clip(StudyRegion)\n",
    "NLCD2016_Clip2 = NLCD2016_Clip.geometry()\n",
    "Map.addLayer(NLCD2016_Clip2,{},'Study_Area') # This is a geometry of the study area- the same as study region\n",
    "Map.addLayer(NLCD2016_Clip,{},'NLCD_1') # This is NLCD, clipped to the study region\n",
    "print(\"Clipped the NLCD imagery to the study region\")"
   ]
  },
  {
   "cell_type": "code",
   "execution_count": 7,
   "id": "0e0f7562-3462-48f3-874e-93b90a0b5f61",
   "metadata": {},
   "outputs": [
    {
     "name": "stdout",
     "output_type": "stream",
     "text": [
      "Successfully added NAIP Imagery\n"
     ]
    }
   ],
   "source": [
    "# Data acquisition: Get the NAIP Imagery- Year: 2019 #### IMAGE TWO IN LAB WRITE-UP #######\n",
    "\n",
    "NAIP_Source = \"USDA/NAIP/DOQQ\" # Insert NAIP Imagery pathway\n",
    "NAIP2019 = ee.ImageCollection(NAIP_Source).filter(ee.Filter.date('2019-01-01', '2019-12-31')).filterBounds(StudyRegion)\n",
    "NAIP2019_Image = NAIP2019.median()\n",
    "# .Filterdate specifies the timeframe over which the NAIP imagery was captured\n",
    "# .filterBounds clips the ImageCollection to the study region defined above\n",
    "# .median converts the ImageCollection to an image\n",
    "try: \n",
    "    Map.addLayer(NAIP2019_Image,{},'NAIP',True)\n",
    "    print(\"Successfully added NAIP Imagery\")\n",
    "except: \n",
    "    print(f'Failed to import imagery- image source: {NAIP_Source} is not valid')"
   ]
  },
  {
   "cell_type": "code",
   "execution_count": 8,
   "id": "e131aa84-a398-4e23-a1f1-98597e85ae37",
   "metadata": {},
   "outputs": [
    {
     "name": "stdout",
     "output_type": "stream",
     "text": [
      "Class and palette information\n",
      "\n",
      "Old class values: [11, 12, 21, 22, 23, 24, 31, 41, 42, 43, 51, 52, 71, 72, 73, 74, 81, 82, 90, 95]\n",
      "\n",
      "New class values: [0, 1, 2, 3, 4, 5, 6, 7, 8, 9, 10, 11, 12, 13, 14, 15, 16, 17, 18, 19]\n",
      "\n",
      "Palette: ['476ba1', 'd1defa', 'decaca', 'd99482', 'ee0000', 'ab0000', 'b3aea3', '68ab63', '1c6330', 'b5ca8f', 'a68c30', 'ccba7d', 'e3e3c2', 'caca78', '99c247', '78ae94', 'dcd93d', 'ab7028', 'bad9eb', '70a3ba']\n"
     ]
    }
   ],
   "source": [
    "# Get the class values from the imagery\n",
    "print(\"Class and palette information\")\n",
    "print(\"\")\n",
    "class_values = NLCD2016_Clip.get('landcover_class_values').getInfo()\n",
    "print(f'Old class values: {class_values}')\n",
    "print(\"\")\n",
    "# Create new values 0-19 for the classes: \n",
    "number_classes = len(class_values)\n",
    "new_class_values = list(range(0, number_classes))\n",
    "print(f'New class values: {new_class_values}')\n",
    "print(\"\")\n",
    "# \n",
    "palette = NLCD2016_Clip.get('landcover_class_palette').getInfo()\n",
    "print(f'Palette: {palette}')\n"
   ]
  },
  {
   "cell_type": "code",
   "execution_count": 9,
   "id": "eee3a45e-eebc-4c78-9c6f-10ae38640e95",
   "metadata": {},
   "outputs": [
    {
     "name": "stdout",
     "output_type": "stream",
     "text": [
      "Successfully added the reclassified NLCD layer\n"
     ]
    }
   ],
   "source": [
    "# remap the NAIP Imagery, reflecting the new classes\n",
    "nlcd_2016 = NLCD2016_Clip.remap(class_values, new_class_values).select(['remapped'], ['landcover'])\n",
    "nlcd_2016 = nlcd_2016.set('landcover_class_values', new_class_values)\n",
    "nlcd_2016 = nlcd_2016.set('landcover_class_palette', palette)\n",
    "\n",
    "Map.addLayer(nlcd_2016, {}, 'NLCD_2',True)\n",
    "print(\"Successfully added the reclassified NLCD layer\")"
   ]
  },
  {
   "cell_type": "code",
   "execution_count": 10,
   "id": "84e5447f-6191-47ef-b533-7e16ce8efb6a",
   "metadata": {},
   "outputs": [
    {
     "name": "stdout",
     "output_type": "stream",
     "text": [
      "The model will run with 5000 pixels\n",
      "Successfully created the training dataset\n"
     ]
    }
   ],
   "source": [
    "# Create a training dataset by adding random points to the map\n",
    "\n",
    "num_pixels = 5000 # Changing this number will change the number of points used for the sample data\n",
    "seed = 0 # The starting point in a random number generating algorithm\n",
    "\n",
    "# pixel threshold\n",
    "if num_pixels >20000:\n",
    "    print(f\"WARNING: the script is set to run the model with {num_pixels} pixels, which may cause the map to generate slowly\")\n",
    "else: \n",
    "    print(f\"The model will run with {num_pixels} pixels\")\n",
    "\n",
    "points = NLCD2016_Clip.sample(\n",
    "    **{\n",
    "        'region': NAIP2019.geometry(),\n",
    "        'scale': 30,\n",
    "        'numPixels': num_pixels,\n",
    "        'seed': seed,\n",
    "        'geometries': True,  # Set this to False to ignore geometries\n",
    "    }\n",
    ")\n",
    "\n",
    "Map.addLayer(points, {}, 'training', False)\n",
    "print(\"Successfully created the training dataset\")\n"
   ]
  },
  {
   "cell_type": "code",
   "execution_count": 11,
   "id": "7dc6a365-f9dd-4ee0-83d9-f221241a0746",
   "metadata": {},
   "outputs": [
    {
     "name": "stdout",
     "output_type": "stream",
     "text": [
      "Successfully Trained the Model\n",
      "Successfully split the data into training and validation data\n",
      "There are roughly 3500.00 training points and 1500.00 validation points\n"
     ]
    }
   ],
   "source": [
    "# Random Forest Classification\n",
    "\n",
    "# 1) Set imagery bands; these are N - Near Infrared, R- Red, G- Green, B- Blue\n",
    "classifierbands = classifierbands = ['R', 'G', 'B', 'N']\n",
    "# 2) Create a training dataset\n",
    "    # Make a label for the landcover classes\n",
    "Class = 'landcover'\n",
    "    # Training\n",
    "Training = NAIP2019_Image.select(classifierbands).sampleRegions(**{\n",
    "    'collection' : points,\n",
    "    'properties' : [Class],\n",
    "    'scale' : 30\n",
    "})\n",
    "print(\"Successfully Trained the Model\")\n",
    "\n",
    "# 3) # Split the data into a testing dataset and a validation dataset\n",
    "sample = Training.randomColumn()\n",
    "split = 0.7 # Split = 0.7 means 70% of points are training data, the remaining 30% are testing data\n",
    "training_points = sample.filter(ee.Filter.lt('random', split))\n",
    "validation_points = sample.filter(ee.Filter.gte('random', split))\n",
    "# This step is necessary for performing accuracy assessment\n",
    "print(\"Successfully split the data into training and validation data\")\n",
    "print(f\"There are roughly {split*num_pixels:.2f} training points and {(1-split)*num_pixels:.2f} validation points\")\n"
   ]
  },
  {
   "cell_type": "code",
   "execution_count": 12,
   "id": "2031cfd7-dbb4-4708-b949-1b386c03bb87",
   "metadata": {},
   "outputs": [
    {
     "name": "stdout",
     "output_type": "stream",
     "text": [
      "Successfully created a classified map layer\n"
     ]
    }
   ],
   "source": [
    "# 4) Run the classifier, create a map from the classified data\n",
    "trees = 574 # this is the number of trees used in the classifier\n",
    "RF_classifier = ee.Classifier.smileRandomForest(trees).train(training_points,Class,classifierbands)\n",
    "Classified_map = NAIP2019_Image.select(classifierbands).classify(RF_classifier)\n",
    "print(\"Successfully created a classified map layer\")"
   ]
  },
  {
   "cell_type": "code",
   "execution_count": 13,
   "id": "e3f941f8-aca6-498b-be58-867ca5393fee",
   "metadata": {},
   "outputs": [],
   "source": [
    "# Attach the NLCD class values and palette to the map    ### IMAGE THREE IN LAB WRITE-UP ###\n",
    "landcover_final = Classified_map.set('classification_class_values', class_values)\n",
    "landcover_final = landcover_final.set('classification_class_palette',palette)"
   ]
  },
  {
   "cell_type": "code",
   "execution_count": 14,
   "id": "96d19bf9-eb52-4c9b-9520-31efaecf796c",
   "metadata": {},
   "outputs": [
    {
     "name": "stdout",
     "output_type": "stream",
     "text": [
      "Successfully created a classified landcover map using the 2019 NAIP Imagery\n"
     ]
    }
   ],
   "source": [
    "# With the NLCD classes, add the final map to the environment\n",
    "try: \n",
    "    Map.addLayer(landcover_final, {}, 'Land cover')\n",
    "    print(\"Successfully created a classified landcover map using the 2019 NAIP Imagery\")\n",
    "except: \n",
    "    print(\"Map failed to generate, check the number of pixels used in the points layer\")\n",
    "    if num_pixels < 20000:\n",
    "        print(\"Map failed to generate, check the arguments in Map.addLayer or the random forest classifier (RF_Classifier\")\n",
    "# Attach a legend to the map \n",
    "Map.add_legend(builtin_legend='NLCD')"
   ]
  },
  {
   "cell_type": "code",
   "execution_count": 15,
   "id": "11dc825e-fbdd-44b0-99c6-b26e43315ab0",
   "metadata": {},
   "outputs": [],
   "source": [
    "# End of the random forest classification process"
   ]
  },
  {
   "cell_type": "code",
   "execution_count": 16,
   "id": "0f10cc4e-0f2a-44cf-b3b1-70eafecbe547",
   "metadata": {},
   "outputs": [],
   "source": [
    "# Accuracy Assessment"
   ]
  },
  {
   "cell_type": "code",
   "execution_count": 21,
   "id": "30107415-a7c0-412e-ac26-c1e3b8f636b9",
   "metadata": {},
   "outputs": [],
   "source": [
    "# Training Data\n",
    "train_accuracy = RF_classifier.confusionMatrix()\n",
    "# train_accuracy.accuracy().getInfo()\n"
   ]
  },
  {
   "cell_type": "code",
   "execution_count": 18,
   "id": "bc7d3257-71ba-4bc7-93c4-29697fd4276a",
   "metadata": {},
   "outputs": [
    {
     "data": {
      "text/plain": [
       "0.7522522522522522"
      ]
     },
     "execution_count": 18,
     "metadata": {},
     "output_type": "execute_result"
    }
   ],
   "source": [
    "# Validation Data\n",
    "validated = validation_points.classify(RF_classifier)\n",
    "test_accuracy = validated.errorMatrix('landcover', 'classification')\n",
    "test_accuracy.accuracy().getInfo()"
   ]
  },
  {
   "cell_type": "code",
   "execution_count": 19,
   "id": "b47b6a0b-1d0b-41dc-a4ba-ba02bd60d6dd",
   "metadata": {},
   "outputs": [
    {
     "name": "stdout",
     "output_type": "stream",
     "text": [
      "Model accuracy value: 0.7522522522522522\n",
      "The model accuracy is above 70%, so it is performing reasonably well\n"
     ]
    }
   ],
   "source": [
    "test_model_accuracy = test_accuracy.accuracy().getInfo()\n",
    "print(f'Model accuracy value: {test_model_accuracy}')\n",
    "if test_model_accuracy < 0.7:\n",
    "    print(\"Warning, this model has accuracy that is below 70%, check parameters (i.e., number of points, covariates used, and others to increase performance of the model\")\n",
    "else: \n",
    "    print(\"The model accuracy is above 70%, so it is performing reasonably well\")"
   ]
  },
  {
   "cell_type": "code",
   "execution_count": 20,
   "id": "e835d915-5c16-422a-9684-55c53b969711",
   "metadata": {},
   "outputs": [
    {
     "data": {
      "application/vnd.jupyter.widget-view+json": {
       "model_id": "790c083040eb418e81d8439f2bc7bbe1",
       "version_major": 2,
       "version_minor": 0
      },
      "text/plain": [
       "Map(center=[20, 0], controls=(WidgetControl(options=['position', 'transparent_bg'], widget=HBox(children=(Togg…"
      ]
     },
     "metadata": {},
     "output_type": "display_data"
    }
   ],
   "source": [
    "Map"
   ]
  },
  {
   "cell_type": "code",
   "execution_count": null,
   "id": "08684e70-9379-4f77-8614-05065ace3c9d",
   "metadata": {},
   "outputs": [],
   "source": []
  }
 ],
 "metadata": {
  "kernelspec": {
   "display_name": "Python 3 (ipykernel)",
   "language": "python",
   "name": "python3"
  },
  "language_info": {
   "codemirror_mode": {
    "name": "ipython",
    "version": 3
   },
   "file_extension": ".py",
   "mimetype": "text/x-python",
   "name": "python",
   "nbconvert_exporter": "python",
   "pygments_lexer": "ipython3",
   "version": "3.10.9"
  }
 },
 "nbformat": 4,
 "nbformat_minor": 5
}
